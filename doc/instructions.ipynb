{
 "metadata": {
  "language_info": {
   "codemirror_mode": {
    "name": "ipython",
    "version": 3
   },
   "file_extension": ".py",
   "mimetype": "text/x-python",
   "name": "python",
   "nbconvert_exporter": "python",
   "pygments_lexer": "ipython3",
   "version": "3.8.5-final"
  },
  "orig_nbformat": 2,
  "kernelspec": {
   "name": "python3",
   "display_name": "Python 3"
  }
 },
 "nbformat": 4,
 "nbformat_minor": 2,
 "cells": [
  {
   "source": [
    "Run the cell below to allow importing the packege in this notebook.\n",
    "Don't do it in real practice!"
   ],
   "cell_type": "markdown",
   "metadata": {}
  },
  {
   "cell_type": "code",
   "execution_count": 7,
   "metadata": {},
   "outputs": [],
   "source": [
    "import sys\n",
    "sys.path.append('..')"
   ]
  },
  {
   "source": [
    "# Setting up\n",
    "It all starts with defining the __root__, i.e., the path to the main directory containing all the data.\n",
    "\n",
    "When run for the first time, it will initiate a seuquence of asking the user to declare the main settings of the system.\n",
    "\n",
    "![A screenshot of an example profile](profile_example.png)\n",
    "\n",
    "User will provide the following information:\n",
    "- prefix: the general name of the animals: _Rat_, _Mouse_, ...\n",
    "- Number of header parameters: 3 in the above example;\n",
    "- Name of said parameters: _rewardType_, _initialSpeed_, and _option_\n",
    "- Number of body parameters: _Session_ and _Tag_ are added automatically, in the example this would be 3;\n",
    "- Names of said parameters: _Speed_, _Type_, _Event_"
   ],
   "cell_type": "markdown",
   "metadata": {}
  },
  {
   "cell_type": "code",
   "execution_count": 14,
   "metadata": {},
   "outputs": [
    {
     "output_type": "execute_result",
     "data": {
      "text/plain": [
       "<AnimalProfile.Root.Root at 0x7f3a3cb64ca0>"
      ]
     },
     "metadata": {},
     "execution_count": 14
    }
   ],
   "source": [
    "import AnimalProfile\n",
    "root = AnimalProfile.Root(root=r\"/data\")\n",
    "\n",
    "root"
   ]
  },
  {
   "source": [
    "Done.\n",
    "This info will be saved in _AnimalProfile.setup_ and is not to be edited!\n",
    "\n",
    "Next step is to build the _profile_ files for each animal.\n",
    "First, make a generic `profile` object."
   ],
   "cell_type": "markdown",
   "metadata": {}
  },
  {
   "cell_type": "code",
   "execution_count": 13,
   "metadata": {},
   "outputs": [
    {
     "output_type": "execute_result",
     "data": {
      "text/plain": [
       "\n",
       "Header: rewardType=[]\n",
       "initialSpeed=[]\n",
       "option=[];\n",
       "\n",
       "Body: Sessions=[]\n",
       "Tag=[]\n",
       "Speed=[]\n",
       "Type=[]\n",
       "Event=[]"
      ]
     },
     "metadata": {},
     "execution_count": 13
    }
   ],
   "source": [
    "profile = root.get_profile()\n",
    "\n",
    "profile"
   ]
  },
  {
   "source": [
    "You can see that the `profile` object is empty!\n",
    "Check out the attributes of the object by pressing the _tab_ key or _ctrl + space_ or just use the `dir()` function"
   ],
   "cell_type": "markdown",
   "metadata": {}
  },
  {
   "cell_type": "code",
   "execution_count": 16,
   "metadata": {},
   "outputs": [
    {
     "output_type": "execute_result",
     "data": {
      "text/plain": [
       "['Event',\n",
       " 'FREEZE',\n",
       " 'Sessions',\n",
       " 'Speed',\n",
       " 'Tag',\n",
       " 'Type',\n",
       " '__add__',\n",
       " '__class__',\n",
       " '__delattr__',\n",
       " '__dict__',\n",
       " '__dir__',\n",
       " '__doc__',\n",
       " '__eq__',\n",
       " '__format__',\n",
       " '__ge__',\n",
       " '__getattribute__',\n",
       " '__gt__',\n",
       " '__hash__',\n",
       " '__init__',\n",
       " '__init_subclass__',\n",
       " '__le__',\n",
       " '__lt__',\n",
       " '__module__',\n",
       " '__ne__',\n",
       " '__new__',\n",
       " '__reduce__',\n",
       " '__reduce_ex__',\n",
       " '__repr__',\n",
       " '__setattr__',\n",
       " '__sizeof__',\n",
       " '__str__',\n",
       " '__subclasshook__',\n",
       " '__weakref__',\n",
       " '_define_fields',\n",
       " '_headerFields',\n",
       " '_prefix',\n",
       " '_root',\n",
       " '_tableFields',\n",
       " 'from_dict',\n",
       " 'initialSpeed',\n",
       " 'keep_sessions',\n",
       " 'keys',\n",
       " 'option',\n",
       " 'rewardType']"
      ]
     },
     "metadata": {},
     "execution_count": 16
    }
   ],
   "source": [
    "dir(profile)"
   ]
  },
  {
   "source": [
    "What matters is for now is that there is an attribute for each header and body field.\n",
    "these fields are now empty, but could be specified.\n",
    "#### Make sure all the fields have __string__ values "
   ],
   "cell_type": "markdown",
   "metadata": {}
  },
  {
   "cell_type": "code",
   "execution_count": 22,
   "metadata": {},
   "outputs": [
    {
     "output_type": "execute_result",
     "data": {
      "text/plain": [
       "13"
      ]
     },
     "metadata": {},
     "execution_count": 22
    }
   ],
   "source": [
    "profile.Speed = [12]\n",
    "\n",
    "profile.Speed[0]+1"
   ]
  },
  {
   "cell_type": "code",
   "execution_count": null,
   "metadata": {},
   "outputs": [],
   "source": [
    "fix above"
   ]
  }
 ]
}
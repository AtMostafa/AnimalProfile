{
 "metadata": {
  "language_info": {
   "codemirror_mode": {
    "name": "ipython",
    "version": 3
   },
   "file_extension": ".py",
   "mimetype": "text/x-python",
   "name": "python",
   "nbconvert_exporter": "python",
   "pygments_lexer": "ipython3",
   "version": "3.8.5-final"
  },
  "orig_nbformat": 2,
  "kernelspec": {
   "name": "python3",
   "display_name": "Python 3"
  }
 },
 "nbformat": 4,
 "nbformat_minor": 2,
 "cells": [
  {
   "source": [
    "Run the cell below to allow importing the packege in this notebook.\n",
    "Don't do it in real practice!"
   ],
   "cell_type": "markdown",
   "metadata": {}
  },
  {
   "cell_type": "code",
   "execution_count": 7,
   "metadata": {},
   "outputs": [],
   "source": [
    "import sys\n",
    "sys.path.append('..')"
   ]
  },
  {
   "source": [
    "# Setting up\n",
    "It all starts with defining the _root_, i.e., the path to the main directory containing all the data.\n",
    "\n",
    "When run for the first time, it will initiate a seuquence of asking the user to declare the main settings of the system.\n",
    "\n",
    "![A screenshot of an example profile](profile_example.png)\n",
    "\n",
    "User will provide the following information:\n",
    "- prefix: the general name of the animals: _Rat_, _Mouse_, ...\n",
    "- Number of header parameters: 3 in the above example;\n",
    "- Name of said parameters: _rewardType_, _initialSpeed_, and _option_\n",
    "- Number of body parameters: _Session_ and _Tag_ are added automatically, in the example this would be 3;\n",
    "- Names of said parameters: _Speed_, _Type_, _Event_"
   ],
   "cell_type": "markdown",
   "metadata": {}
  },
  {
   "cell_type": "code",
   "execution_count": 9,
   "metadata": {},
   "outputs": [],
   "source": [
    "import AnimalProfile\n",
    "root = AnimalProfile.Root(root=r\"/data\")"
   ]
  },
  {
   "source": [
    "Done.\n",
    "This info will be saved in _AnimalProfile.setup_ and is not to be edited!\n",
    "\n",
    "Next step is to build the _profile_ files for each animal."
   ],
   "cell_type": "markdown",
   "metadata": {}
  },
  {
   "cell_type": "code",
   "execution_count": null,
   "metadata": {},
   "outputs": [],
   "source": []
  }
 ]
}
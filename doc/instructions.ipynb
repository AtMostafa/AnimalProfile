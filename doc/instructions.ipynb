{
 "metadata": {
  "language_info": {
   "codemirror_mode": {
    "name": "ipython",
    "version": 3
   },
   "file_extension": ".py",
   "mimetype": "text/x-python",
   "name": "python",
   "nbconvert_exporter": "python",
   "pygments_lexer": "ipython3",
   "version": "3.8.5-final"
  },
  "orig_nbformat": 2,
  "kernelspec": {
   "name": "python3",
   "display_name": "Python 3"
  }
 },
 "nbformat": 4,
 "nbformat_minor": 2,
 "cells": [
  {
   "source": [
    "Run the cell below to allow importing the packege in this notebook.\n",
    "No need to do it if you have AnimalProfile installed!"
   ],
   "cell_type": "markdown",
   "metadata": {}
  },
  {
   "cell_type": "code",
   "execution_count": 1,
   "metadata": {},
   "outputs": [],
   "source": [
    "import sys\n",
    "sys.path.append('..')"
   ]
  },
  {
   "source": [
    "# Setting up\n",
    "It all starts with defining the __root__, i.e., the path to the main directory containing all the data.\n",
    "\n",
    "When running for the first time, it will initiate a seuquence of questions, asking the user to declare the main settings of the system.\n",
    "\n",
    "![A screenshot of an example profile](profile_example.png)\n",
    "\n",
    "User will provide the following information:\n",
    "- prefix: the general name of the animals: _Rat_, _Mouse_, ...\n",
    "- Number of header parameters: 3 in the above example;\n",
    "- Name of said parameters: _rewardType_, _initialSpeed_, and _option_\n",
    "- Number of body parameters: _Session_ and _Tag_ are added automatically, in the example this would be 3;\n",
    "- Names of said parameters: _Speed_, _Type_, _Event_ in the above example\n",
    "\n",
    "#### Choose names that follow python's variable naming rules"
   ],
   "cell_type": "markdown",
   "metadata": {}
  },
  {
   "cell_type": "code",
   "execution_count": 2,
   "metadata": {},
   "outputs": [
    {
     "output_type": "execute_result",
     "data": {
      "text/plain": [
       "AnimalProfile profile at: /data/AnimalProfile.setup"
      ]
     },
     "metadata": {},
     "execution_count": 2
    }
   ],
   "source": [
    "import AnimalProfile\n",
    "root = AnimalProfile.Root(root=r\"/data\")\n",
    "\n",
    "root"
   ]
  },
  {
   "source": [
    "Done.\n",
    "This info will be saved in _AnimalProfile.setup_ and is not to be edited at a later time!\n",
    "\n",
    "## Make animal profiles\n",
    "\n",
    "Next step is to build the _profile_ files for each animal.\n",
    "This can be done using a method accessible from the _root_ object"
   ],
   "cell_type": "markdown",
   "metadata": {}
  },
  {
   "cell_type": "code",
   "execution_count": 3,
   "metadata": {},
   "outputs": [
    {
     "output_type": "stream",
     "name": "stderr",
     "text": [
      "INFO: No need to update the tag file\n",
      "INFO: Rat111 profile did not update.\n"
     ]
    },
    {
     "output_type": "execute_result",
     "data": {
      "text/plain": [
       "False"
      ]
     },
     "metadata": {},
     "execution_count": 3
    }
   ],
   "source": [
    "root.update(animal='Rat111')"
   ]
  },
  {
   "source": [
    "The `update` method creates the profile file for a single animal.\n",
    "It will ask the user to set the header parameters, and it will fill the body parameters with default values.\n",
    "This is what it will look like:\n",
    "\n",
    "![A screenshot of a new profile](new_profile_example.png)\n",
    "\n",
    "Let's break it down:\n",
    "- first two lines are automatically filled.\n",
    "- the header parameters are given by the user.\n",
    "- then, on line 6, you see the name of the body parameters, seperated by a _tab_.\n",
    "- then, one line per session, as loaded from the __Experiments__ folder, and one column per body parameters, seperated by a _tab_ character.\n",
    "\n",
    "### Important:\n",
    "- Everything is treated as a string, so 10 and 10.0 are different.\n",
    "- User is expected to replace the default values and then those values are repeated for every subsequent session.\n",
    "Everytime something changes, the user must manually change the default values in the table.\n",
    "- Profile files always have an empty line at the end (line 14)\n",
    "\n",
    "![A screenshot of a filled profile](new_profile_filled.png)\n",
    "\n",
    "After replacing the default names, the profiles look like the above picture.\n",
    "Next time this profile is `update`d, the values of the last session will be repeated for the new session.\n",
    "\n",
    "#### Don't use very very long values, each line is expected to be shorter than 200 characters.\n",
    "\n",
    "Good: Early-Lesion_DLS\n",
    "\n",
    "Bad: Dorsolateral_striatum_lesion_before_training_the_animals_and_after_habituation\n",
    "\n",
    "Let's update the profile again to see what happens:\n"
   ],
   "cell_type": "markdown",
   "metadata": {}
  },
  {
   "cell_type": "code",
   "execution_count": 4,
   "metadata": {},
   "outputs": [
    {
     "output_type": "stream",
     "name": "stderr",
     "text": [
      "INFO: No need to update the tag file\n",
      "INFO: Rat111 profile did not update.\n"
     ]
    },
    {
     "output_type": "execute_result",
     "data": {
      "text/plain": [
       "False"
      ]
     },
     "metadata": {},
     "execution_count": 4
    }
   ],
   "source": [
    "root.update('Rat111')"
   ]
  },
  {
   "source": [
    "# Profile class\n",
    "\n",
    "Other than the `Root` class, AnimalProfile has a `AnimalProfile.Profile` class that holds information related to the profile files.\n",
    "Let's instantiate a profile object, again, easily from the `root` object."
   ],
   "cell_type": "markdown",
   "metadata": {}
  },
  {
   "cell_type": "code",
   "execution_count": 5,
   "metadata": {},
   "outputs": [
    {
     "output_type": "execute_result",
     "data": {
      "text/plain": [
       "\n",
       "Header:\n",
       "rewardType=[]\tinitialSpeed=[]\toption=[];\n",
       "\n",
       "Body:\n",
       "Sessions=[]\tTag=[]\tSpeed=[]\tType=[]\tEvent=[]"
      ]
     },
     "metadata": {},
     "execution_count": 5
    }
   ],
   "source": [
    "profile = root.get_profile()\n",
    "\n",
    "profile"
   ]
  },
  {
   "source": [
    "You can see that the `profile` object is empty!\n",
    "This is a class to describe the sessions you want!  "
   ],
   "cell_type": "markdown",
   "metadata": {}
  },
  {
   "cell_type": "code",
   "execution_count": 8,
   "metadata": {},
   "outputs": [
    {
     "output_type": "execute_result",
     "data": {
      "text/plain": [
       "\n",
       "Header:\n",
       "rewardType=[]\tinitialSpeed=['10']\toption=[];\n",
       "\n",
       "Body:\n",
       "Sessions=[]\tTag=['Early-Lesion_DLS']\tSpeed=['10']\tType=[]\tEvent=[]"
      ]
     },
     "metadata": {},
     "execution_count": 8
    }
   ],
   "source": [
    "profile.initialSpeed = 10\n",
    "profile.Speed = 10\n",
    "profile.Tag = 'Early-Lesion_DLS'\n",
    "\n",
    "profile"
   ]
  },
  {
   "source": [
    "What matters for now is that there is an attribute for each header and body field.\n",
    "#### Make sure all the fields have __string__ values.\n",
    "As you can see above, integer (and float) values will be converted to string, and every field is always a list of possible values:"
   ],
   "cell_type": "markdown",
   "metadata": {}
  },
  {
   "cell_type": "code",
   "execution_count": 10,
   "metadata": {},
   "outputs": [
    {
     "output_type": "execute_result",
     "data": {
      "text/plain": [
       "\n",
       "Header:\n",
       "rewardType=[]\tinitialSpeed=['10']\toption=[];\n",
       "\n",
       "Body:\n",
       "Sessions=[]\tTag=['Early-Lesion_DLS']\tSpeed=['15', '10']\tType=[]\tEvent=[]"
      ]
     },
     "metadata": {},
     "execution_count": 10
    }
   ],
   "source": [
    "profile.Speed = ['15', '10']\n",
    "\n",
    "profile"
   ]
  },
  {
   "source": [
    "AnimalProfile also comes with a few functions that return useful information and allow you to group similar experiments together.\n",
    "Check out the list of these functions:"
   ],
   "cell_type": "markdown",
   "metadata": {}
  },
  {
   "cell_type": "code",
   "execution_count": 14,
   "metadata": {},
   "outputs": [
    {
     "output_type": "execute_result",
     "data": {
      "text/plain": [
       "['get_animal_list',\n",
       " 'get_current_animals',\n",
       " 'get_event',\n",
       " 'get_pattern_animalList',\n",
       " 'get_session_list',\n",
       " 'get_session_profile',\n",
       " 'get_tag_pattern']"
      ]
     },
     "metadata": {},
     "execution_count": 14
    }
   ],
   "source": [
    "[function for function in dir(AnimalProfile) if 'get' in function]"
   ]
  },
  {
   "source": [
    "You can figure out what each function does by looking at its signature.\n",
    "```\n",
    "help(AnimalProfile.get_animal_list)\n",
    "```\n",
    "or in Jupyter Notebooks:"
   ],
   "cell_type": "markdown",
   "metadata": {}
  },
  {
   "cell_type": "code",
   "execution_count": 34,
   "metadata": {},
   "outputs": [
    {
     "output_type": "stream",
     "text": [
      "\u001b[0;31mSignature:\u001b[0m\n",
      "\u001b[0mAnimalProfile\u001b[0m\u001b[0;34m.\u001b[0m\u001b[0mget_animal_list\u001b[0m\u001b[0;34m(\u001b[0m\u001b[0;34m\u001b[0m\n",
      "\u001b[0;34m\u001b[0m    \u001b[0mroot\u001b[0m\u001b[0;34m:\u001b[0m \u001b[0mAnimalProfile\u001b[0m\u001b[0;34m.\u001b[0m\u001b[0mRoot\u001b[0m\u001b[0;34m.\u001b[0m\u001b[0mRoot\u001b[0m\u001b[0;34m,\u001b[0m\u001b[0;34m\u001b[0m\n",
      "\u001b[0;34m\u001b[0m    \u001b[0mprofile\u001b[0m\u001b[0;34m:\u001b[0m \u001b[0mAnimalProfile\u001b[0m\u001b[0;34m.\u001b[0m\u001b[0mProfile\u001b[0m\u001b[0;34m.\u001b[0m\u001b[0mProfile\u001b[0m \u001b[0;34m=\u001b[0m \u001b[0;32mNone\u001b[0m\u001b[0;34m,\u001b[0m\u001b[0;34m\u001b[0m\n",
      "\u001b[0;34m\u001b[0m\u001b[0;34m)\u001b[0m\u001b[0;34m\u001b[0m\u001b[0;34m\u001b[0m\u001b[0m\n",
      "\u001b[0;31mDocstring:\u001b[0m this function returns list of animals with at least one session matching the \"profile\"\n",
      "\u001b[0;31mFile:\u001b[0m      ~/Repositories/AnimalProfile/AnimalProfile/session/batchAnimals.py\n",
      "\u001b[0;31mType:\u001b[0m      function\n"
     ],
     "name": "stdout"
    }
   ],
   "source": [
    "AnimalProfile.get_animal_list?"
   ]
  },
  {
   "source": [
    "Pay attention to what type each argument must be: profile: AnimalProfile.Profile.Profile\n",
    "\n",
    "And the Docstring describe the functionality."
   ],
   "cell_type": "markdown",
   "metadata": {}
  },
  {
   "cell_type": "code",
   "execution_count": 36,
   "metadata": {},
   "outputs": [
    {
     "output_type": "execute_result",
     "data": {
      "text/plain": [
       "['Rat111']"
      ]
     },
     "metadata": {},
     "execution_count": 36
    }
   ],
   "source": [
    "animalList = AnimalProfile.get_animal_list(root, profile=profile)\n",
    "\n",
    "animalList"
   ]
  },
  {
   "cell_type": "code",
   "execution_count": null,
   "metadata": {},
   "outputs": [],
   "source": []
  }
 ]
}
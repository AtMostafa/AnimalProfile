{
 "metadata": {
  "language_info": {
   "codemirror_mode": {
    "name": "ipython",
    "version": 3
   },
   "file_extension": ".py",
   "mimetype": "text/x-python",
   "name": "python",
   "nbconvert_exporter": "python",
   "pygments_lexer": "ipython3",
   "version": "3.8.5-final"
  },
  "orig_nbformat": 2,
  "kernelspec": {
   "name": "python3",
   "display_name": "Python 3"
  }
 },
 "nbformat": 4,
 "nbformat_minor": 2,
 "cells": [
  {
   "source": [
    "## Test\n",
    "This notebook is to test the package"
   ],
   "cell_type": "markdown",
   "metadata": {}
  },
  {
   "cell_type": "code",
   "execution_count": null,
   "metadata": {},
   "outputs": [],
   "source": [
    "import os, sys\n",
    "from pathlib import Path\n",
    "from AnimalProfile.Root import Root\n",
    "import AnimalProfile.session as session\n",
    "import AnimalProfile.Profile as Profile\n",
    "import AnimalProfile.TagFile as TagFile"
   ]
  },
  {
   "cell_type": "code",
   "execution_count": null,
   "metadata": {},
   "outputs": [],
   "source": [
    "path=Path('/data/Rat111/Rat111.profile')"
   ]
  },
  {
   "cell_type": "code",
   "execution_count": null,
   "metadata": {},
   "outputs": [],
   "source": [
    "path.parts[-1][:-len(path.suffix)]"
   ]
  },
  {
   "cell_type": "code",
   "execution_count": null,
   "metadata": {},
   "outputs": [],
   "source": [
    "root=Root(root='/data')"
   ]
  },
  {
   "cell_type": "code",
   "execution_count": null,
   "metadata": {},
   "outputs": [],
   "source": [
    "sorted(a.root.glob('Rat???/*.profile'))"
   ]
  },
  {
   "cell_type": "code",
   "execution_count": null,
   "metadata": {},
   "outputs": [],
   "source": [
    "a=None\n",
    "isinstance(a, (type(None),str))"
   ]
  },
  {
   "cell_type": "code",
   "execution_count": null,
   "metadata": {},
   "outputs": [],
   "source": [
    "root = Root()\n",
    "profile = Profile.Profile(root=root)\n",
    "profile.Speed = '15'\n",
    "profile.Event = 'SpeedChange'\n",
    "tagfile = TagFile.TagFile(root, 'Rat111')\n",
    "s = session.get_session_list(tagfile, profile)\n",
    "# s = tagfile.read_tag_table()\n",
    "print(s)\n"
   ]
  },
  {
   "cell_type": "code",
   "execution_count": null,
   "metadata": {},
   "outputs": [],
   "source": [
    "profile = root.get_profile()\n",
    "# profile.Speed = '15'\n",
    "profile.rewardType = 'Progressive'\n",
    "profile.Event = 'SpeedChange'\n",
    "\n",
    "\n",
    "session.batch_get_animal_list(root,profile)"
   ]
  }
 ]
}